{
 "cells": [
  {
   "cell_type": "code",
   "execution_count": 1,
   "metadata": {
    "collapsed": false
   },
   "outputs": [],
   "source": [
    "import sys\n",
    "sys.path.append('../src')\n",
    "\n",
    "from collections import Counter\n",
    "import localmodule\n",
    "import functools\n",
    "from joblib import Memory, Parallel, delayed\n",
    "from librosa.display import specshow\n",
    "import math\n",
    "import music21 as m21\n",
    "import numpy as np\n",
    "import os\n",
    "import scipy"
   ]
  },
  {
   "cell_type": "code",
   "execution_count": 6,
   "metadata": {
    "collapsed": false
   },
   "outputs": [],
   "source": [
    "# Define constants.\n",
    "J_tm = 9\n",
    "N = 2**10\n",
    "n_octaves = 8\n",
    "midi_octave_offset = 2\n",
    "quantization = 2.0\n",
    "xi = 0.4\n",
    "sigma = 0.16\n",
    "\n",
    "midis = []\n",
    "\n",
    "pianoroll = np.zeros((n_octaves*12, N))\n",
    "pianoroll[n_octaves*6, int(N/2)] = 1.0\n",
    "\n",
    "# Setup wavelet filter bank over time.\n",
    "wavelet_filterbank_ft = np.zeros((1, N, J_tm))\n",
    "for j in range(J_tm-1):\n",
    "    xi_j = xi * 2**(-j)\n",
    "    sigma_j = sigma * 2**(-j)\n",
    "    center = xi_j * N\n",
    "    den = 2 * sigma_j * sigma_j * N * N\n",
    "    psi_ft = localmodule.morlet(center, den, N, n_periods=4)\n",
    "    conj_psi_ft = np.roll(psi_ft, -1)[::-1]\n",
    "    wavelet_filterbank_ft[0, :, -1 - j] = psi_ft\n",
    "    \n",
    "# Append scaling function phi (average).\n",
    "wavelet_filterbank_ft[0, 0, 0] = 1\n",
    "\n",
    "# Convolve pianoroll with filterbank.\n",
    "pianoroll_ft = scipy.fftpack.fft(pianoroll, axis=1)\n",
    "pianoroll_ft = np.expand_dims(pianoroll_ft, axis=2)\n",
    "wavelet_transform_ft = pianoroll_ft * wavelet_filterbank_ft\n",
    "wavelet_transform = scipy.fftpack.ifft(wavelet_transform_ft, axis=1)\n",
    "\n",
    "\n",
    "# Reshape MIDI axis to chromagram\n",
    "chromagram = np.reshape(wavelet_transform,\n",
    "    (12, -1, wavelet_transform.shape[1], wavelet_transform.shape[2]), 'F')\n",
    "\n",
    "\n",
    "# Construct eigentriads\n",
    "cosine_basis = np.array([[np.cos(2*np.pi*omega*t/3) for omega in range(3)] for t in range(3)]).T\n",
    "sine_basis = np.array([[np.sin(2*np.pi*omega*t/3) for omega in range(3)] for t in range(3)]).T\n",
    "fourier_basis = cosine_basis + np.complex(0, 1) * sine_basis\n",
    "major_template = [0, 4, 7]\n",
    "minor_template = [0, 3, 7]\n",
    "major_eigentriads = np.zeros((12, 3), dtype=np.complex)\n",
    "minor_eigentriads = np.zeros((12, 3), dtype=np.complex)\n",
    "for omega in range(3):\n",
    "    for t, p in enumerate(major_template):\n",
    "        major_eigentriads[p, omega] = fourier_basis[t, omega]\n",
    "    for t, p in enumerate(minor_template):\n",
    "        minor_eigentriads[p, omega] = fourier_basis[t, omega]\n",
    "eigentriads = np.stack(\n",
    "    (major_eigentriads, minor_eigentriads), axis=1)\n",
    "\n",
    "# Convolve chromagram with eigentriads\n",
    "chromagram_ft = scipy.fftpack.fft(chromagram, axis=0)\n",
    "chromagram_ft = chromagram_ft[:, np.newaxis, :, :, :, np.newaxis]\n",
    "eigentriads_ft = scipy.fftpack.fft(eigentriads, axis=0)\n",
    "eigentriads_ft = eigentriads_ft[:, :, np.newaxis,\n",
    "    np.newaxis, np.newaxis, :]\n",
    "eigentriad_transform_ft = chromagram_ft * eigentriads_ft\n",
    "eigentriad_transform = scipy.fftpack.fft(\n",
    "    eigentriad_transform_ft, axis=0)"
   ]
  },
  {
   "cell_type": "code",
   "execution_count": 21,
   "metadata": {
    "collapsed": false
   },
   "outputs": [
    {
     "name": "stdout",
     "output_type": "stream",
     "text": [
      "(2, 96, 1024, 9, 3)\n"
     ]
    }
   ],
   "source": [
    "X = np.transpose(eigentriad_transform, (1, 0, 2, 3, 4, 5))\n",
    "X = np.reshape(X, (X.shape[0], X.shape[1]*X.shape[2], X.shape[3], X.shape[4], X.shape[5]),\n",
    "    order='F')\n",
    "\n",
    "print(X.shape)"
   ]
  },
  {
   "cell_type": "code",
   "execution_count": 50,
   "metadata": {
    "collapsed": false
   },
   "outputs": [
    {
     "data": {
      "image/png": "[encoded data removed]",
      "text/plain": [
       "<Figure size 576x576 with 1 Axes>"
      ]
     },
     "metadata": {},
     "output_type": "display_data"
    }
   ],
   "source": [
    "%matplotlib inline\n",
    "from matplotlib import pyplot as plt\n",
    "from librosa.display import specshow\n",
    "\n",
    "plt.figure(figsize=(8, 8))\n",
    "specshow(np.real(X[0, 38:68, :, 1, 1]))\n",
    "\n",
    "plt.savefig('eigentriad.eps')\n",
    "plt.savefig('eigentriad.png')"
   ]
  },
  {
   "cell_type": "code",
   "execution_count": 40,
   "metadata": {
    "collapsed": false
   },
   "outputs": [
    {
     "data": {
      "text/plain": [
       "38.0"
      ]
     },
     "execution_count": 40,
     "metadata": {},
     "output_type": "execute_result"
    }
   ],
   "source": [
    "96/2 - 10"
   ]
  },
  {
   "cell_type": "code",
   "execution_count": null,
   "metadata": {
    "collapsed": true
   },
   "outputs": [],
   "source": []
  }
 ],
 "metadata": {
  "kernelspec": {
   "display_name": "Python 3",
   "language": "python",
   "name": "python3"
  },
  "language_info": {
   "codemirror_mode": {
    "name": "ipython",
    "version": 3
   },
   "file_extension": ".py",
   "mimetype": "text/x-python",
   "name": "python",
   "nbconvert_exporter": "python",
   "pygments_lexer": "ipython3",
   "version": "3.5.4"
  }
 },
 "nbformat": 4,
 "nbformat_minor": 2
}
